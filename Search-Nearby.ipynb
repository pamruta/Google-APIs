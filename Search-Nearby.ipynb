{
 "cells": [
  {
   "cell_type": "code",
   "execution_count": 1,
   "metadata": {
    "collapsed": false
   },
   "outputs": [],
   "source": [
    "# search Google Places API for nearby hotels, restaurants, gas stations etc\n",
    "api_key = open(\"keyfile\").read()"
   ]
  },
  {
   "cell_type": "code",
   "execution_count": 2,
   "metadata": {
    "collapsed": false
   },
   "outputs": [
    {
     "name": "stdout",
     "output_type": "stream",
     "text": [
      "https://maps.googleapis.com/maps/api/place/nearbysearch/json?location=33.812110,-117.918556&radius=500&type=restaurant\n"
     ]
    }
   ],
   "source": [
    "base_url = \"https://maps.googleapis.com/maps/api/place/nearbysearch/\"\n",
    "output_format = \"json\"\n",
    "# enter the co-ordinates\n",
    "disney_land = \"33.812110,-117.918556\"\n",
    "place_type = \"restaurant\"\n",
    "maps_url = base_url + output_format + \"?location=\" + disney_land + \"&radius=500\" + \"&type=\" + place_type\n",
    "print maps_url"
   ]
  },
  {
   "cell_type": "code",
   "execution_count": 3,
   "metadata": {
    "collapsed": false
   },
   "outputs": [],
   "source": [
    "import urllib2\n",
    "fetch_url = maps_url + \"&key=\" + api_key\n",
    "json_output = urllib2.urlopen(fetch_url).read()"
   ]
  },
  {
   "cell_type": "code",
   "execution_count": 4,
   "metadata": {
    "collapsed": false
   },
   "outputs": [],
   "source": [
    "import json\n",
    "data = json.loads(json_output)"
   ]
  },
  {
   "cell_type": "code",
   "execution_count": 5,
   "metadata": {
    "collapsed": false
   },
   "outputs": [
    {
     "name": "stdout",
     "output_type": "stream",
     "text": [
      "    ****    Restaurants near Disney Land, CA     ****\n",
      "Mimi's Cafe :\t1400 South Harbor Boulevard, Anaheim\n",
      "IHOP :\t1560 South Harbor Boulevard, Anaheim\n",
      "Naples Ristorante e Pizzeria :\t1510 Disneyland Drive, Anaheim\n",
      "Tiki Juice Bar :\t1313 South Harbor Boulevard, Anaheim\n",
      "Blue Bayou :\tDisneyland Park, 1313 S. Harbor Blvd., Anaheim\n",
      "Cafe Orleans :\t1313 South Harbor Boulevard, Anaheim\n",
      "Royal Street Veranda :\t1313 South Harbor Boulevard, Anaheim\n",
      "The Pizza Press :\t1534 South Harbor Boulevard, Anaheim\n",
      "Captain Kidd's Family Dining :\t1550 South Harbor Boulevard, Anaheim\n",
      "The Golden Horseshoe :\t1313 South Harbor Boulevard, Anaheim\n",
      "Corn Dogs :\tAnaheim\n",
      "Plaza Inn :\t1313 S. Harbor Blvd, Anaheim\n",
      "Carnation Cafe :\tDisneyland Park, Anaheim\n",
      "French Market Restaurant :\t1313 S. Harbor Blvd., Anaheim\n",
      "Redd Rockett's Pizza Port :\t1313 South Harbor Boulevard, Anaheim\n",
      "Gibson Girl Ice Cream Parlor :\tDisneyland Park, Anaheim\n",
      "Bengal Barbecue :\t1313 South Harbor Boulevard, Anaheim\n",
      "Troubadour Tavern :\t1313 South Harbor Boulevard, Anaheim\n",
      "Galactic Grill :\t1313 South Harbor Boulevard, Anaheim\n",
      "Refreshment Corner :\t4401 Floridian Way, Anaheim\n"
     ]
    }
   ],
   "source": [
    "# read results from json output\n",
    "print \"    ****    Restaurants near Disney Land, CA     ****\"\n",
    "for k in range(len(data['results'])):\n",
    "    if 'name' in data['results'][k]:\n",
    "        print data['results'][k]['name'], \n",
    "        if 'vicinity' in data['results'][k]:\n",
    "            print \":\\t\", data['results'][k]['vicinity']\n",
    "        else:\n",
    "            print \"\\n\""
   ]
  }
 ],
 "metadata": {
  "kernelspec": {
   "display_name": "Python 2",
   "language": "python",
   "name": "python2"
  },
  "language_info": {
   "codemirror_mode": {
    "name": "ipython",
    "version": 2
   },
   "file_extension": ".py",
   "mimetype": "text/x-python",
   "name": "python",
   "nbconvert_exporter": "python",
   "pygments_lexer": "ipython2",
   "version": "2.7.13"
  }
 },
 "nbformat": 4,
 "nbformat_minor": 2
}
