{
 "cells": [
  {
   "cell_type": "markdown",
   "metadata": {},
   "source": [
    "        Search Nearby Shops, Restaurants, Hotels and More..\n",
    "        Author: Amruta Purandare\n",
    "        Date Created: March 21, 2017\n",
    "        Last Updated: March 26, 2017"
   ]
  },
  {
   "cell_type": "code",
   "execution_count": 1,
   "metadata": {
    "collapsed": false
   },
   "outputs": [],
   "source": [
    "# search nearby hotels, shops, restaurants and more..\n",
    "def search_nearby(co_ordinates, place_type=\"point_of_interest\", query=\"\"):\n",
    "    # Your API Key\n",
    "    api_key = open(\"keyfile\").read()\n",
    "    \n",
    "    base_url = \"https://maps.googleapis.com/maps/api/place/nearbysearch/\"\n",
    "    maps_url = base_url + \"json?location=\" + co_ordinates + \"&radius=1500\" + \"&type=\" + place_type\n",
    "    \n",
    "    # query to specify search terms and keywords\n",
    "    if query != \"\":\n",
    "        import re\n",
    "        query = re.sub(r',?\\s+', '\\+', query)\n",
    "        maps_url = maps_url + \"&keyword=\" + query\n",
    "\n",
    "    # add API key to url\n",
    "    maps_url = maps_url + \"&key=\" + api_key\n",
    "    \n",
    "    # fetch url from Google Places API\n",
    "    import urllib2\n",
    "    json_output = urllib2.urlopen(maps_url).read()\n",
    "    \n",
    "    # fetch POI name and address information from json output\n",
    "    import json\n",
    "    data = json.loads(json_output)\n",
    "    output = []\n",
    "    for k in range(len(data['results'])):\n",
    "        if 'name' in data['results'][k]:\n",
    "            poi = {}\n",
    "            poi['name'] = data['results'][k]['name']\n",
    "            if 'vicinity' in data['results'][k]:\n",
    "                poi['addr'] = data['results'][k]['vicinity']\n",
    "            output.append(poi)\n",
    "    return output"
   ]
  },
  {
   "cell_type": "code",
   "execution_count": 2,
   "metadata": {
    "collapsed": false
   },
   "outputs": [],
   "source": [
    "# sample co-ordinates to search nearby\n",
    "disney_land = \"33.812110,-117.918556\"\n",
    "suntec_city = \"1.293680,103.857641\"\n",
    "marina_bay = \"1.283531,103.861352\""
   ]
  },
  {
   "cell_type": "code",
   "execution_count": 3,
   "metadata": {
    "collapsed": false
   },
   "outputs": [
    {
     "name": "stdout",
     "output_type": "stream",
     "text": [
      "Marina Bay Sands :  10 Bayfront Avenue\n",
      "Mandarin Oriental, Singapore :  5 Raffles Avenue\n",
      "The Westin Singapore :  12 Marina View, Asia Square Tower 2, Singapore\n",
      "Pan Pacific Singapore :  7 Raffles Boulevard, Marina Square\n",
      "Peninsula Excelsior :  5 Coleman Street\n",
      "The Residence at Singapore Recreation Club :  B Connaught Drive\n",
      "The Fullerton Hotel Singapore :  1 Fullerton Square\n",
      "Ascott :  2 Finlayson Green\n",
      "The Ritz-Carlton :  7 Raffles Avenue\n",
      "Fragrance Bugis :  33 Middle Rd\n",
      "Naumi :  41 Seah Street\n",
      "Hotel Clover 5 Hongkong Street :  5 Hongkong Street\n",
      "Marina Mandarin :  6 Raffles Boulevard, Marina Square\n",
      "Grand Park City Hall :  10 Coleman St\n",
      "Hotel Clover The Arts :  58 South Bridge Road\n",
      "Raffles Hotel :  1 Beach Road\n",
      "Swissôtel The Stamford :  2 Stamford Road\n",
      "Fragrance :  20 Hong Kong Street, Singapore\n",
      "Conrad Centennial Singapore :  2 Temasek Blvd\n",
      "Carlton Hotel :  76 Bras Basah Road\n"
     ]
    }
   ],
   "source": [
    "# searching hotels near marina bay singapore\n",
    "output = search_nearby(marina_bay, \"hotel\", \"hotels near marina bay\")\n",
    "for k in range(len(output)):\n",
    "    print output[k]['name'], \": \", output[k]['addr']"
   ]
  }
 ],
 "metadata": {
  "kernelspec": {
   "display_name": "Python 2",
   "language": "python",
   "name": "python2"
  },
  "language_info": {
   "codemirror_mode": {
    "name": "ipython",
    "version": 2
   },
   "file_extension": ".py",
   "mimetype": "text/x-python",
   "name": "python",
   "nbconvert_exporter": "python",
   "pygments_lexer": "ipython2",
   "version": "2.7.13"
  }
 },
 "nbformat": 4,
 "nbformat_minor": 2
}
