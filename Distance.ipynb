{
 "cells": [
  {
   "cell_type": "code",
   "execution_count": 1,
   "metadata": {
    "collapsed": true
   },
   "outputs": [],
   "source": [
    "# Google Maps API to compute distance from A to B\n",
    "api_key = open(\"distance-keyfile\").read()"
   ]
  },
  {
   "cell_type": "code",
   "execution_count": 2,
   "metadata": {
    "collapsed": false
   },
   "outputs": [
    {
     "name": "stdout",
     "output_type": "stream",
     "text": [
      "https://maps.googleapis.com/maps/api/distancematrix/json?units=imperial&origins=London+UK&destinations=Paris+France&mode=transit&transit_mode=train\n"
     ]
    }
   ],
   "source": [
    "base_url = \"https://maps.googleapis.com/maps/api/distancematrix/\"\n",
    "unit = \"imperial\"\n",
    "output_format = \"json\"\n",
    "origin = \"London+UK\"\n",
    "destination = \"Paris+France\"\n",
    "mode = \"transit\"\n",
    "transit_mode = \"train\"\n",
    "maps_url = base_url + output_format + \"?units=\" + unit + \"&origins=\" + origin + \"&destinations=\" + destination + \"&mode=\" + mode + \"&transit_mode=\" + transit_mode \n",
    "print maps_url"
   ]
  },
  {
   "cell_type": "code",
   "execution_count": 3,
   "metadata": {
    "collapsed": true
   },
   "outputs": [],
   "source": [
    "import urllib2\n",
    "fetch_url = maps_url + \"&key=\" + api_key\n",
    "json_output = urllib2.urlopen(fetch_url).read()"
   ]
  },
  {
   "cell_type": "code",
   "execution_count": 4,
   "metadata": {
    "collapsed": false
   },
   "outputs": [],
   "source": [
    "import json\n",
    "data = json.loads(json_output)"
   ]
  },
  {
   "cell_type": "code",
   "execution_count": 5,
   "metadata": {
    "collapsed": false
   },
   "outputs": [
    {
     "name": "stdout",
     "output_type": "stream",
     "text": [
      "Distance =  282 mi\n",
      "Duration =  2 hours 25 mins\n"
     ]
    }
   ],
   "source": [
    "for i in range(len(data['rows'])):\n",
    "    for j in range(len(data['rows'][i]['elements'])):\n",
    "        print \"Distance = \", data['rows'][i]['elements'][j]['distance']['text']\n",
    "        print \"Duration = \", data['rows'][i]['elements'][j]['duration']['text']"
   ]
  }
 ],
 "metadata": {
  "kernelspec": {
   "display_name": "Python 2",
   "language": "python",
   "name": "python2"
  },
  "language_info": {
   "codemirror_mode": {
    "name": "ipython",
    "version": 2
   },
   "file_extension": ".py",
   "mimetype": "text/x-python",
   "name": "python",
   "nbconvert_exporter": "python",
   "pygments_lexer": "ipython2",
   "version": "2.7.13"
  }
 },
 "nbformat": 4,
 "nbformat_minor": 2
}
