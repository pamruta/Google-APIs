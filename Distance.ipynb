{
 "cells": [
  {
   "cell_type": "markdown",
   "metadata": {},
   "source": [
    "    iPython Notebook to compute distance between two cities with Google Maps API\n",
    "    Author: Amruta Purandare\n",
    "    Date Created: March 23, 2017\n",
    "    Last Updated: March 26, 2017"
   ]
  },
  {
   "cell_type": "code",
   "execution_count": 1,
   "metadata": {
    "collapsed": false
   },
   "outputs": [],
   "source": [
    "# function to compute distance between two cities on Google Maps\n",
    "def compute_distance(origin, destination, mode=\"transit\", transit_mode=\"train\"):\n",
    "    output = {}\n",
    "\n",
    "    # Your API Key\n",
    "    api_key = open(\"distance-keyfile\").read()\n",
    "\n",
    "    base_url = \"https://maps.googleapis.com/maps/api/distancematrix/\"\n",
    "    output_format = \"json\"\n",
    "    maps_url = base_url + output_format + \"?\"\n",
    "    \n",
    "    output['origin'] = origin\n",
    "    output['destination'] = destination\n",
    "    \n",
    "    import re\n",
    "    origin = re.sub(r',?\\s+', \"\\+\", origin)\n",
    "    destination = re.sub(r',?\\s+', \"\\+\", destination)\n",
    "    maps_url = maps_url + \"origins=\" + origin + \"&destinations=\" + destination\n",
    "    \n",
    "    # mode of transportation, default = transit\n",
    "    maps_url = maps_url + \"&mode=\" + mode\n",
    "    output['mode'] = mode\n",
    "    \n",
    "    # mode of public transportation\n",
    "    if mode == \"transit\":\n",
    "        output['transit_mode'] = transit_mode\n",
    "        maps_url = maps_url + \"&transit_mode=\" + transit_mode\n",
    "\n",
    "    # fetching output from google maps API\n",
    "    import urllib2\n",
    "    key_url = maps_url + \"&key=\" + api_key\n",
    "    json_output = urllib2.urlopen(key_url).read()\n",
    "    \n",
    "    # get distance and time from json_output\n",
    "    import json\n",
    "    data = json.loads(json_output)\n",
    "    for i in range(len(data['rows'])):\n",
    "        for j in range(len(data['rows'][i]['elements'])):\n",
    "            output['distance'] = data['rows'][i]['elements'][j]['distance']['text']\n",
    "            output['duration'] = data['rows'][i]['elements'][j]['duration']['text']\n",
    "    \n",
    "    # return output\n",
    "    return output"
   ]
  },
  {
   "cell_type": "code",
   "execution_count": 2,
   "metadata": {
    "collapsed": false
   },
   "outputs": [
    {
     "name": "stdout",
     "output_type": "stream",
     "text": [
      "Origin:\t\t\t\tParis\n",
      "Destination:\t\t\tAmsterdam\n",
      "Mode of Transportation:\t\ttrain\n",
      "Distance:\t\t\t525 km\n",
      "Duration:\t\t\t3 hours 17 mins\n"
     ]
    }
   ],
   "source": [
    "# compute distance(origin, destination, [mode-of-transport], [mode-of-public-transport])\n",
    "output = compute_distance(\"Paris\", \"Amsterdam\")\n",
    "\n",
    "# print output\n",
    "print \"Origin:\\t\\t\\t\\t\", output['origin']\n",
    "print \"Destination:\\t\\t\\t\", output['destination']\n",
    "if output['mode'] == \"transit\":\n",
    "    print \"Mode of Transportation:\\t\\t\", output['transit_mode']\n",
    "else:\n",
    "    print \"Mode of Transportation:\\t\\t\", output['mode']\n",
    "print \"Distance:\\t\\t\\t\", output['distance']\n",
    "print \"Duration:\\t\\t\\t\", output['duration']"
   ]
  }
 ],
 "metadata": {
  "kernelspec": {
   "display_name": "Python 2",
   "language": "python",
   "name": "python2"
  },
  "language_info": {
   "codemirror_mode": {
    "name": "ipython",
    "version": 2
   },
   "file_extension": ".py",
   "mimetype": "text/x-python",
   "name": "python",
   "nbconvert_exporter": "python",
   "pygments_lexer": "ipython2",
   "version": "2.7.13"
  }
 },
 "nbformat": 4,
 "nbformat_minor": 2
}
