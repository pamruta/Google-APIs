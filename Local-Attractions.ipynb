{
 "cells": [
  {
   "cell_type": "code",
   "execution_count": 1,
   "metadata": {
    "collapsed": false
   },
   "outputs": [],
   "source": [
    "# search Google Places API for points of interests\n",
    "api_key = open(\"keyfile\").read()"
   ]
  },
  {
   "cell_type": "code",
   "execution_count": 2,
   "metadata": {
    "collapsed": false
   },
   "outputs": [
    {
     "name": "stdout",
     "output_type": "stream",
     "text": [
      "https://maps.googleapis.com/maps/api/place/textsearch/json?query=las+vegas+casinos&type=casino\n"
     ]
    }
   ],
   "source": [
    "base_url = \"https://maps.googleapis.com/maps/api/place/textsearch/\"\n",
    "output_format = \"json\"\n",
    "search_query = \"las+vegas+casinos\"\n",
    "place_type = \"casino\"\n",
    "maps_url = base_url + output_format + \"?query=\" + search_query + \"&type=\" + place_type\n",
    "print maps_url"
   ]
  },
  {
   "cell_type": "code",
   "execution_count": 3,
   "metadata": {
    "collapsed": false
   },
   "outputs": [],
   "source": [
    "import urllib2\n",
    "fetch_url = maps_url + \"&key=\" + api_key\n",
    "json_output = urllib2.urlopen(fetch_url).read()"
   ]
  },
  {
   "cell_type": "code",
   "execution_count": 4,
   "metadata": {
    "collapsed": false
   },
   "outputs": [],
   "source": [
    "import json\n",
    "data = json.loads(json_output)"
   ]
  },
  {
   "cell_type": "code",
   "execution_count": 5,
   "metadata": {
    "collapsed": false
   },
   "outputs": [
    {
     "name": "stdout",
     "output_type": "stream",
     "text": [
      "Plaza Hotel & Casino\n",
      "Stratosphere Casino, Hotel & Tower\n",
      "Golden Nugget Hotel & Casino\n",
      "Circus Circus Hotel & Resort\n",
      "El Cortez Hotel & Casino\n",
      "The Mirage\n",
      "The Venetian\n",
      "Harrah's Las Vegas Hotel & Casino\n",
      "Caesars Palace\n",
      "Bellagio Hotel and Casino\n",
      "Paris Las Vegas\n",
      "New York-New York Hotel & Casino\n",
      "MGM Grand\n",
      "Excalibur Hotel & Casino\n",
      "Treasure Island\n",
      "The Cromwell Las Vegas Hotel & Casino\n",
      "California Hotel & Casino\n",
      "Luxor Hotel & Casino\n",
      "Palace Station Hotel & Casino\n",
      "ARIA Resort & Casino Las Vegas\n"
     ]
    }
   ],
   "source": [
    "# read results from json output\n",
    "for k in range(len(data['results'])):\n",
    "    if 'name' in data['results'][k]:\n",
    "        print data['results'][k]['name']"
   ]
  }
 ],
 "metadata": {
  "kernelspec": {
   "display_name": "Python 2",
   "language": "python",
   "name": "python2"
  },
  "language_info": {
   "codemirror_mode": {
    "name": "ipython",
    "version": 2
   },
   "file_extension": ".py",
   "mimetype": "text/x-python",
   "name": "python",
   "nbconvert_exporter": "python",
   "pygments_lexer": "ipython2",
   "version": "2.7.13"
  }
 },
 "nbformat": 4,
 "nbformat_minor": 2
}
