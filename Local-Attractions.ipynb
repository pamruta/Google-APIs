{
 "cells": [
  {
   "cell_type": "markdown",
   "metadata": {},
   "source": [
    "         Search Local Attractions (Points of Interests) on Google Places\n",
    "         Author: Amruta Purandare\n",
    "         Date Created: March 22, 2017\n",
    "         Last Updated: March 26, 2017"
   ]
  },
  {
   "cell_type": "code",
   "execution_count": 1,
   "metadata": {
    "collapsed": false
   },
   "outputs": [],
   "source": [
    "# search popular tourist attractions on Google Places\n",
    "def tourist_attractions(search_query, place_type=\"point_of_interest\"):\n",
    "    # Enter your API Key\n",
    "    api_key = open(\"keyfile\").read()\n",
    "    \n",
    "    base_url = \"https://maps.googleapis.com/maps/api/place/textsearch/\"\n",
    "    import re\n",
    "    search_query = re.sub(r',?\\s+', '\\+', search_query)\n",
    "    # add search parameters to base url\n",
    "    maps_url = base_url + \"json?query=\" + search_query + \"&type=\" + place_type\n",
    "    # add API Key\n",
    "    maps_url = maps_url + \"&key=\" + api_key\n",
    "\n",
    "    # fetching url from Google Places API\n",
    "    import urllib2\n",
    "    json_output = urllib2.urlopen(maps_url).read()\n",
    "\n",
    "    # get POI names from json output\n",
    "    output = []\n",
    "    import json\n",
    "    data = json.loads(json_output)\n",
    "    for k in range(len(data['results'])):\n",
    "        if 'name' in data['results'][k]:\n",
    "            output.append(data['results'][k]['name'])\n",
    "    return output"
   ]
  },
  {
   "cell_type": "code",
   "execution_count": 2,
   "metadata": {
    "collapsed": false
   },
   "outputs": [
    {
     "name": "stdout",
     "output_type": "stream",
     "text": [
      "Stratosphere Casino, Hotel & Tower\n",
      "Plaza Hotel & Casino\n",
      "El Cortez Hotel & Casino\n",
      "Circus Circus Hotel & Resort\n",
      "Golden Nugget Hotel & Casino\n",
      "California Hotel & Casino\n",
      "Treasure Island\n",
      "The Mirage\n",
      "The Venetian\n",
      "Caesars Palace\n",
      "Bellagio Hotel and Casino\n",
      "Paris Las Vegas\n",
      "New York-New York Hotel & Casino\n",
      "MGM Grand\n",
      "Excalibur Hotel & Casino\n",
      "Luxor Hotel & Casino\n",
      "Silver Sevens Hotel & Casino\n",
      "Palace Station Hotel & Casino\n",
      "Station Casinos, Inc. - Red Rock Casino Office\n",
      "Aliante Casino + Hotel + Spa\n"
     ]
    }
   ],
   "source": [
    "# search tourist_attractions(query, [place_type])\n",
    "# e.g. tourist_attractions(\"singapore tourist attractions\")\n",
    "output = tourist_attractions(\"las vegas casinos\", \"casino\")\n",
    "for item in output:\n",
    "    print item"
   ]
  }
 ],
 "metadata": {
  "kernelspec": {
   "display_name": "Python 2",
   "language": "python",
   "name": "python2"
  },
  "language_info": {
   "codemirror_mode": {
    "name": "ipython",
    "version": 2
   },
   "file_extension": ".py",
   "mimetype": "text/x-python",
   "name": "python",
   "nbconvert_exporter": "python",
   "pygments_lexer": "ipython2",
   "version": "2.7.13"
  }
 },
 "nbformat": 4,
 "nbformat_minor": 2
}
