{
 "cells": [
  {
   "cell_type": "code",
   "execution_count": 1,
   "metadata": {
    "collapsed": false
   },
   "outputs": [],
   "source": [
    "# search Google Places API for points of interests\n",
    "api_key = open(\"keyfile\").read()"
   ]
  },
  {
   "cell_type": "code",
   "execution_count": 2,
   "metadata": {
    "collapsed": false
   },
   "outputs": [
    {
     "name": "stdout",
     "output_type": "stream",
     "text": [
      "https://maps.googleapis.com/maps/api/place/textsearch/json?query=singapore+tourist+attractions&type=point_of_interest\n"
     ]
    }
   ],
   "source": [
    "base_url = \"https://maps.googleapis.com/maps/api/place/textsearch/\"\n",
    "output_format = \"json\"\n",
    "search_query = \"singapore+tourist+attractions\"\n",
    "place_type = \"point_of_interest\"\n",
    "maps_url = base_url + output_format + \"?query=\" + search_query + \"&type=\" + place_type\n",
    "print maps_url"
   ]
  },
  {
   "cell_type": "code",
   "execution_count": 3,
   "metadata": {
    "collapsed": false
   },
   "outputs": [],
   "source": [
    "import urllib2\n",
    "fetch_url = maps_url + \"&key=\" + api_key\n",
    "json_output = urllib2.urlopen(fetch_url).read()"
   ]
  },
  {
   "cell_type": "code",
   "execution_count": 4,
   "metadata": {
    "collapsed": false
   },
   "outputs": [],
   "source": [
    "import json\n",
    "data = json.loads(json_output)"
   ]
  },
  {
   "cell_type": "code",
   "execution_count": 5,
   "metadata": {
    "collapsed": false
   },
   "outputs": [
    {
     "name": "stdout",
     "output_type": "stream",
     "text": [
      "Supertree Grove\n",
      "Jurong Bird Park\n",
      "Gardens by the Bay\n",
      "Night Safari\n",
      "Marina Bay\n",
      "Singapore Zoo\n",
      "Clarke Quay\n",
      "Merlion Park\n",
      "Universal Studios Singapore\n",
      "Haw Par Villa\n",
      "Singapore Attractions\n",
      "City Tours\n",
      "Marina Barrage\n",
      "Trick Eye\n",
      "Singapore River Cruise\n",
      "New Asia Singapore\n",
      "Resorts World Sentosa\n",
      "S.E.A. Aquarium\n",
      "Singapore Cable Car\n",
      "Segway Tours\n"
     ]
    }
   ],
   "source": [
    "# read results from json output\n",
    "for k in range(len(data['results'])):\n",
    "    if 'name' in data['results'][k]:\n",
    "        print data['results'][k]['name']"
   ]
  }
 ],
 "metadata": {
  "kernelspec": {
   "display_name": "Python 2",
   "language": "python",
   "name": "python2"
  },
  "language_info": {
   "codemirror_mode": {
    "name": "ipython",
    "version": 2
   },
   "file_extension": ".py",
   "mimetype": "text/x-python",
   "name": "python",
   "nbconvert_exporter": "python",
   "pygments_lexer": "ipython2",
   "version": "2.7.13"
  }
 },
 "nbformat": 4,
 "nbformat_minor": 2
}
